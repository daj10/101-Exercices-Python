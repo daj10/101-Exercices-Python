{
 "cells": [
  {
   "cell_type": "markdown",
   "metadata": {},
   "source": [
    "# Exercices Python - Niveau Debutant"
   ]
  },
  {
   "cell_type": "markdown",
   "metadata": {},
   "source": [
    "## Exercice 1\n",
    "Déclarer des variables"
   ]
  },
  {
   "cell_type": "code",
   "execution_count": 8,
   "metadata": {},
   "outputs": [
    {
     "name": "stdout",
     "output_type": "stream",
     "text": [
      "('Marc', 'Caroline')\n"
     ]
    }
   ],
   "source": [
    "prenom = 'Pierre' # string\n",
    "age = 20 # Integer\n",
    "majeur = True # boolean\n",
    "compte_en_banque = 20135.384 # float\n",
    "amis = ['Marie', 'Julien', 'Adrien'] # list\n",
    "parents = ('Marc', 'Caroline') # tuple\n",
    "print(parents)"
   ]
  },
  {
   "cell_type": "markdown",
   "metadata": {},
   "source": [
    "## Exercice 3\n",
    "Convertir une variable d'un type à un autre"
   ]
  },
  {
   "cell_type": "code",
   "execution_count": 14,
   "metadata": {},
   "outputs": [
    {
     "name": "stdout",
     "output_type": "stream",
     "text": [
      "j'ai 25ans\n",
      "True\n"
     ]
    }
   ],
   "source": [
    "'''\n",
    "Python ne permet pas de concatener une chaine de caractere avec un nombre\n",
    "-> Pour convertir un nombre en chaîne de caractère, on utilise la fonction str\n",
    "-> Pour convertir une chaîne de caractère en nombre, on utilise la fonction int\n",
    "-> Attention : si vous essayez de convertir une chaîne de caractère qui ne contient pas un nombre en 'integer' \n",
    "    avec la fonction int, vous aurez une erreur\n",
    "'''\n",
    "nombre = 25\n",
    "print(\"j'ai \"+ str(nombre) + \"ans\")\n",
    "#print(\"j'ai {f}\".format(f=nombre))\n",
    "\n",
    "#vérifier si une chaîne de caractère ne contient que des chiffres\n",
    "print(\"4\".isdigit())"
   ]
  },
  {
   "cell_type": "markdown",
   "metadata": {},
   "source": [
    "## Exercice 5\n",
    "Ajouter un séparateur dans le print "
   ]
  },
  {
   "cell_type": "code",
   "execution_count": 75,
   "metadata": {},
   "outputs": [
    {
     "name": "stdout",
     "output_type": "stream",
     "text": [
      "10 + 16 + 4\n"
     ]
    }
   ],
   "source": [
    "'''\n",
    "Ajouter un separateur dans la fonction print\n",
    "'''\n",
    "a = 10\n",
    "b = 16\n",
    "c = 4\n",
    "print(a, b, c, sep=\" + \")"
   ]
  },
  {
   "cell_type": "markdown",
   "metadata": {},
   "source": [
    "## Exercice 6\n",
    "Erreur dans la déclaration d'une variable"
   ]
  },
  {
   "cell_type": "code",
   "execution_count": 16,
   "metadata": {},
   "outputs": [
    {
     "name": "stdout",
     "output_type": "stream",
     "text": [
      "[0, 1, 2, 3, 4]\n"
     ]
    }
   ],
   "source": [
    "'''\n",
    "liste non-exhaustive des noms réservés par Python\n",
    "\n",
    "False               def                 if                  raise\n",
    "None                del                 import              return\n",
    "True                elif                in                  try\n",
    "and                 else                is                  while\n",
    "as                  except              lambda              with\n",
    "assert              finally             nonlocal            yield\n",
    "break               for                 not                 \n",
    "class               from                or                  \n",
    "continue            global              pass \n",
    "\n",
    "'''\n",
    "list1 = range(2)\n",
    "list2 = range(5)\n",
    "print(list(list2))"
   ]
  },
  {
   "cell_type": "markdown",
   "metadata": {},
   "source": [
    "## Exercice 7\n",
    "Vérifier si une variable est d'un certain type"
   ]
  },
  {
   "cell_type": "code",
   "execution_count": 77,
   "metadata": {},
   "outputs": [
    {
     "name": "stdout",
     "output_type": "stream",
     "text": [
      "la variable prenom est une chaine de caractere\n"
     ]
    }
   ],
   "source": [
    "'''\n",
    "Verifier le type d'une variable\n",
    "1-type\n",
    "2-isinstance -> recommandéé car elle fonctionnera également si vous vérifier \n",
    "le type d'une variable qui hérite d'une classe qui est du type que vous cherchez.\n",
    "'''\n",
    "prenom = \"Pierre\"\n",
    "\n",
    "if type(prenom) == str:\n",
    "    print(\"la variable prenom est une chaine de caractere\")\n",
    "\n",
    "prenom = 0\n",
    "if isinstance(prenom, str):\n",
    "    print(\"La variable prenom est une chaine de caractere\")\n",
    "a = 5"
   ]
  },
  {
   "cell_type": "markdown",
   "metadata": {},
   "source": [
    "## Exercice 8\n",
    "Remplacer un mot par un autre"
   ]
  },
  {
   "cell_type": "code",
   "execution_count": 79,
   "metadata": {},
   "outputs": [
    {
     "name": "stdout",
     "output_type": "stream",
     "text": [
      "Bonjour tout le monde.\n",
      "Bonsoir tout le monde.\n"
     ]
    }
   ],
   "source": [
    "\"\"\"\n",
    "La focntion 'replace' : Remplacer toutes les instances de la chaîne de caractère par une autre\n",
    "\"\"\"\n",
    "phrase = \"Bonjour tout le monde.\"\n",
    "print(phrase)\n",
    "# Remplacer bonjour par bonsoir\n",
    "nouvelle_phrase = phrase.replace(\"Bonjour\", \"Bonsoir\")\n",
    "print(nouvelle_phrase)"
   ]
  },
  {
   "cell_type": "markdown",
   "metadata": {},
   "source": [
    "## Exercice 9\n",
    "Ordonner une chaîne de caractère"
   ]
  },
  {
   "cell_type": "code",
   "execution_count": 20,
   "metadata": {},
   "outputs": [
    {
     "name": "stdout",
     "output_type": "stream",
     "text": [
      "Pierre, Julien, Anne, Marie, Lucien\n",
      "['Pierre', ' Julien', ' Anne', ' Marie', ' Lucien']\n",
      " Anne,  Julien,  Lucien,  Marie, Pierre\n"
     ]
    }
   ],
   "source": [
    "'''\n",
    "1-On ne peut pas trier une chaîne de caractère.\n",
    "2-Pour séparer une chaîne de caractère en plusieurs éléments, on utilise la fonction split.\n",
    "3-Pour trier une liste, on utilise la fonction sort\n",
    "4-Pour joindre différents éléments d'une liste par une chaîne de caractère, on utilise la méthode join.\n",
    "\n",
    "'''\n",
    "chaine = \"Pierre, Julien, Anne, Marie, Lucien\"\n",
    "print(chaine)\n",
    "\n",
    "# On ne peut pas trier une chaine de caractère, il faut passer par une liste.\n",
    "liste_sep = chaine.split(\",\")\n",
    "print(liste_sep)\n",
    "\n",
    "# Ordonner la liste\n",
    "liste_sep.sort()\n",
    "\n",
    "# Joindre de nouveaux les prénoms de la liste avec le caractère \n",
    "chaine_ordre = \", \".join(liste_sep)\n",
    "print(chaine_ordre)"
   ]
  },
  {
   "cell_type": "markdown",
   "metadata": {},
   "source": [
    "## Exercice 10"
   ]
  },
  {
   "cell_type": "code",
   "execution_count": null,
   "metadata": {},
   "outputs": [],
   "source": [
    "\"\"\"\n",
    "volume d'un shpere\n",
    "-> utilisation du module math. symbole multiplication et exposant\n",
    "\"\"\""
   ]
  },
  {
   "cell_type": "code",
   "execution_count": 29,
   "metadata": {},
   "outputs": [
    {
     "name": "stdout",
     "output_type": "stream",
     "text": [
      "le volume = 4188.790204786391\n"
     ]
    }
   ],
   "source": [
    "import math\n",
    "rayon = 10.0\n",
    "volume = (4.0 * math.pi / 3.0) * (rayon ** 3)\n",
    "print(\"le volume = \" + str(volume))"
   ]
  },
  {
   "cell_type": "markdown",
   "metadata": {},
   "source": [
    "## Exercice 11\n",
    "Tester si un nombre est plus grand que 10"
   ]
  },
  {
   "cell_type": "code",
   "execution_count": 38,
   "metadata": {},
   "outputs": [
    {
     "name": "stdout",
     "output_type": "stream",
     "text": [
      "a est supérieur à 10\n"
     ]
    }
   ],
   "source": [
    "'''\n",
    "Test conditionnel: if, elif, else\n",
    "'''\n",
    "a = 12\n",
    "if a > 10:\n",
    "    print(\"a est supérieur à 10\")\n",
    "elif a < 10:\n",
    "    print(\"a est inferieur à 10\")\n",
    "else:\n",
    "    print(\"a est égal à 10\")"
   ]
  },
  {
   "cell_type": "markdown",
   "metadata": {},
   "source": [
    "## Exercice 12\n",
    "Créer une liste de nombres de 5 à 15"
   ]
  },
  {
   "cell_type": "code",
   "execution_count": 9,
   "metadata": {},
   "outputs": [
    {
     "name": "stdout",
     "output_type": "stream",
     "text": [
      "[5, 6, 7, 8, 9, 10, 11, 12, 13, 14, 15]\n"
     ]
    }
   ],
   "source": [
    "'''\n",
    "La fonction range permet de générer une liste de nombres rapidement.\n",
    "-> Depuis Python 3, il faut utiliser la fonction list pour convertir le résultat de la fonction range en liste.\n",
    "'''\n",
    "list_nombre = list(range(5, 16))\n",
    "print(list_nombre)\n"
   ]
  },
  {
   "cell_type": "markdown",
   "metadata": {},
   "source": [
    "## Exercice 13\n",
    "Créer une liste de nombres pairs de 1 à 100"
   ]
  },
  {
   "cell_type": "code",
   "execution_count": 4,
   "metadata": {},
   "outputs": [
    {
     "name": "stdout",
     "output_type": "stream",
     "text": [
      "[2, 4, 6, 8, 10, 12, 14, 16, 18, 20, 22, 24, 26, 28, 30, 32, 34, 36, 38, 40, 42, 44, 46, 48, 50, 52, 54, 56, 58, 60, 62, 64, 66, 68, 70, 72, 74, 76, 78, 80, 82, 84, 86, 88, 90, 92, 94, 96, 98, 100]\n"
     ]
    }
   ],
   "source": [
    "'''\n",
    "-> On peut spécifier un écart à la fonction range en passant un nombre en troisième argument.\n",
    "'''\n",
    "liste_nombre_pairs = range(2, 101, 2)\n",
    "print(list(liste_nombre_pairs))"
   ]
  },
  {
   "cell_type": "markdown",
   "metadata": {},
   "source": [
    "## Exercice 14\n",
    "Générer 6 lancers de dés aleatoires allant de 1 à 6"
   ]
  },
  {
   "cell_type": "code",
   "execution_count": 24,
   "metadata": {},
   "outputs": [
    {
     "name": "stdout",
     "output_type": "stream",
     "text": [
      "3\n",
      "5\n",
      "5\n",
      "1\n",
      "5\n",
      "4\n"
     ]
    }
   ],
   "source": [
    "'''\n",
    "-> Pour générer des nombres aléatoires, on utilise le module random\n",
    "-> Pour récupérer un élément aléatoire dans une liste, on utilise la fonction choice du module random\n",
    "-> \"_\" pour une variable que l'on ne compte pas utiliser : convention en python\n",
    "'''\n",
    "# Avec Random.choice\n",
    "for _ in range(6):\n",
    "    # Générer un nombre aléatoire de 1 à 6\n",
    "    nombre = random.choice(range(1, 7)) # nombre = random.randint(1, 6) pour ne pas passer par une liste\n",
    "    print(nombre)"
   ]
  },
  {
   "cell_type": "markdown",
   "metadata": {},
   "source": [
    "## Exercice 15\n",
    "compter le nombre d'occurences d'une lettre dans une chaine de caractère"
   ]
  },
  {
   "cell_type": "code",
   "execution_count": 29,
   "metadata": {},
   "outputs": [
    {
     "name": "stdout",
     "output_type": "stream",
     "text": [
      "4\n"
     ]
    }
   ],
   "source": [
    "'''\n",
    "-> On utilise la fonction count Pour compter le nombre d'occurrences d'une lettre dans une chaîne de caractère.\n",
    "-> Convertir auparavant notre chaîne de caractère en minuscule avec la fonction lower pour eviter \n",
    "    confusion quant aux majuscules et minuscules\n",
    "'''\n",
    "lettre_a_chercher = \"o\"\n",
    "phrase = \"Bonjour tout le monde\"\n",
    "# Convertir en minuscule\n",
    "phrase = phrase.lower()\n",
    "\n",
    "# Compter le nombre d'occurence\n",
    "print(phrase.count(lettre_a_chercher))\n"
   ]
  },
  {
   "cell_type": "markdown",
   "metadata": {},
   "source": [
    "## Exercice 16\n",
    "Récupérer un élément dans une liste"
   ]
  },
  {
   "cell_type": "code",
   "execution_count": 31,
   "metadata": {},
   "outputs": [
    {
     "name": "stdout",
     "output_type": "stream",
     "text": [
      "Pierre\n"
     ]
    }
   ],
   "source": [
    "'''\n",
    "Pour récupérer le premier élément de la liste, on utilise les crochets et l'indice 0\n",
    "'''\n",
    "ma_liste = [\"Pierre\", \"Paul\", \"Marie\"]\n",
    "print(ma_liste[0])"
   ]
  },
  {
   "cell_type": "markdown",
   "metadata": {},
   "source": [
    "## Exercice 17\n",
    "Récuperer les élements dans une liste"
   ]
  },
  {
   "cell_type": "code",
   "execution_count": 46,
   "metadata": {},
   "outputs": [
    {
     "name": "stdout",
     "output_type": "stream",
     "text": [
      "Pierre\n",
      "Marie\n",
      "['Pierre', 'Paul']\n",
      "['Paul', 'Marie']\n"
     ]
    }
   ],
   "source": [
    "'''\n",
    "-> Pour récupérer plusieurs éléments à l'intérieur d'une liste, on utilise le slicing :\n",
    "                                ma_liste[début:fin].\n",
    "-> Pour récupérer des éléments en partant de la fin, on peut utiliser des indices négatifs.\n",
    "\n",
    "'''\n",
    "ma_liste = [\"Pierre\", \"Paul\", \"Marie\"]\n",
    "# Prémier élement\n",
    "print(ma_liste[0])\n",
    "\n",
    "# Dernier élément\n",
    "print(ma_liste[-1])\n",
    "\n",
    "# Deux prémiers éléments -> slicing\n",
    "print(ma_liste[:2])#print(ma_liste[0:2])\n",
    "\n",
    "# Deux derniers éléments\n",
    "print(ma_liste[-2:])"
   ]
  },
  {
   "cell_type": "markdown",
   "metadata": {},
   "source": [
    "## Exercice 18\n",
    "Récuperer un élement sur deux dans une liste"
   ]
  },
  {
   "cell_type": "code",
   "execution_count": 58,
   "metadata": {},
   "outputs": [
    {
     "name": "stdout",
     "output_type": "stream",
     "text": [
      "[1, 3, 5, 7, 9]\n"
     ]
    }
   ],
   "source": [
    "'''\n",
    "-> Pour récupérer un élément sur deux, on utilise le slicing et on indique un pas de 2 à l'intérieur des crochets.\n",
    "-> La syntaxe complète du slicing est donc la suivante :\n",
    "                    ma_liste[indice_de_depart:indice_de_fin:pas] \n",
    "'''\n",
    "ma_liste = [1, 2, 3, 4, 5, 6, 7, 8, 9, 10]\n",
    "print(ma_liste[::2])"
   ]
  },
  {
   "cell_type": "markdown",
   "metadata": {},
   "source": [
    "## Exercice 19\n",
    "Ajouter plusieurs éléments à une liste en une seule fois"
   ]
  },
  {
   "cell_type": "code",
   "execution_count": 64,
   "metadata": {},
   "outputs": [
    {
     "name": "stdout",
     "output_type": "stream",
     "text": [
      "[1, 2, 3, 4, 5, 6]\n"
     ]
    }
   ],
   "source": [
    "'''\n",
    "-> Pour ajouter plusieurs éléments dans une liste en une seule fois, on utilise la fonction extend\n",
    "'''\n",
    "ma_liste = [1, 2, 3]\n",
    "ma_liste.extend([4, 5, 6])\n",
    "\n",
    "print(ma_liste)"
   ]
  },
  {
   "cell_type": "markdown",
   "metadata": {},
   "source": [
    "## Exercie 20\n",
    "Récuperer les éléments communs à une liste"
   ]
  },
  {
   "cell_type": "code",
   "execution_count": 83,
   "metadata": {},
   "outputs": [
    {
     "name": "stdout",
     "output_type": "stream",
     "text": [
      "[10, 5, 7]\n",
      "[5, 7, 10]\n"
     ]
    }
   ],
   "source": [
    "'''\n",
    "-> Pour convertir une liste en set, on utilise la fonction set.\n",
    "-> Pour récupérer les éléments communs à deux set, on utilise la méthode intersection.\n",
    "'''\n",
    "\n",
    "# Par les sets\n",
    "liste_01 = [1, 5, 6, 7, 9, 10, 11]\n",
    "liste_02 = [2, 3, 5, 7, 8, 10, 12]\n",
    "\n",
    "# Convertir les listes en set\n",
    "set_list1 = set(liste_01)\n",
    "set_list2 = set(liste_02)\n",
    "\n",
    "# Elements communs\n",
    "resultat = set_list1.intersection(set_list2)\n",
    "\n",
    "# Transformation en liste\n",
    "resultat = list(resultat)\n",
    "print(list(resultat))\n",
    "\n",
    "\n",
    "# Avec une boucle for\n",
    "liste_01 = [1, 5, 6, 7, 9, 10, 11]\n",
    "liste_02 = [2, 3, 5, 7, 8, 10, 12]\n",
    "resultat = []\n",
    "for x in liste_01:\n",
    "    if x in liste_02:\n",
    "        resultat.append(x)\n",
    "print(resultat)"
   ]
  },
  {
   "cell_type": "markdown",
   "metadata": {},
   "source": [
    "## Exercice 21\n",
    "Trier une liste qui contient des tuples"
   ]
  },
  {
   "cell_type": "code",
   "execution_count": 93,
   "metadata": {},
   "outputs": [
    {
     "name": "stdout",
     "output_type": "stream",
     "text": [
      "[('Wall-E', 3), ('Blade Runner', 4), ('Harry Potter', 5)]\n"
     ]
    }
   ],
   "source": [
    "'''\n",
    "-> Tuple est une liste qui ne peut pas etre modifiiée\n",
    "-> La fonction sort accepte un argument 'key', auquel nous pouvons passer une fonction lambda \n",
    "    pour trier une liste selon des critères spécifiques.\n",
    "'''\n",
    "\n",
    "liste = [(\"Harry Potter\", 5), (\"Wall-E\", 3), (\"Blade Runner\", 4)]\n",
    "liste.sort(key=lambda x: x[1])\n",
    "print(liste)"
   ]
  },
  {
   "cell_type": "markdown",
   "metadata": {},
   "source": [
    "## Exercice 22\n",
    "Récuperer une valeur dans un dictionnaire, Recuperer la valeur de la cle prenom contenu dans le dic employes"
   ]
  },
  {
   "cell_type": "code",
   "execution_count": 110,
   "metadata": {},
   "outputs": [
    {
     "name": "stdout",
     "output_type": "stream",
     "text": [
      "Pierre\n",
      "Dupont\n",
      "{'prenom': 'Pierre', 'nom': 'Dupont'}\n"
     ]
    }
   ],
   "source": [
    "'''\n",
    "-> Pour récupérer la valeur associée à une clé dans un dictionnaire, on peut utiliser la fonction get, \n",
    "    qui permet de spécifier une valeur par défaut à retourner si la clé n'est pas trouvée.\n",
    "    \n",
    "-> employes[\"01\"] L'inconvénient de cette façon de faire c'est que notre script \n",
    "    va retourner une erreur si la clé n'existe pas.\n",
    "'''\n",
    "\n",
    "employes = {\"01\": {\"identite\": {\"prenom\": \"Pierre\", \"nom\": \"Dupont\"}}}\n",
    "print(employes.get(\"01\", {}).get(\"identite\", {}).get(\"prenom\", \"valeur inconnue\"))\n",
    "print(employes.get(\"01\", {}).get(\"identite\", {}).get(\"nom\", \"valeur inconnue\"))\n",
    "print(employes.get(\"01\", {}).get(\"identite\", \"valeur inconnue\"))"
   ]
  },
  {
   "cell_type": "markdown",
   "metadata": {},
   "source": [
    "## Exercice 23\n",
    "Additionner les valeurs d'un dictionnaire"
   ]
  },
  {
   "cell_type": "code",
   "execution_count": 2,
   "metadata": {},
   "outputs": [
    {
     "name": "stdout",
     "output_type": "stream",
     "text": [
      "8700\n"
     ]
    }
   ],
   "source": [
    "'''\n",
    "-> Pour récupérer toutes les valeurs d'un dictionnaire,\n",
    "    on peut utiliser la méthode values\n",
    "    \n",
    "-> Pour faire la somme de plusieurs nombres, on utilise la fonction sum.\n",
    "\n",
    "'''\n",
    "employes = {\"Pierre\": 2500, \"Marie\": 5000, \"Julien\": 1200}\n",
    "print(sum(employes.values()))"
   ]
  },
  {
   "cell_type": "markdown",
   "metadata": {},
   "source": [
    "## Exercice 24\n",
    "Trouver l'erreur de module"
   ]
  },
  {
   "cell_type": "code",
   "execution_count": 116,
   "metadata": {},
   "outputs": [
    {
     "name": "stdout",
     "output_type": "stream",
     "text": [
      "5\n"
     ]
    }
   ],
   "source": [
    "'''\n",
    "-> Pour utiliser une fonction à l'intérieur d'un module,\n",
    "    il ne faut pas oublier de préfixer la fonction par le nom du module\n",
    "'''\n",
    "import random\n",
    "nombre = random.randint(0, 5)\n",
    "print(nombre)"
   ]
  },
  {
   "cell_type": "markdown",
   "metadata": {},
   "source": [
    "## Exercice 25\n",
    "Trouver l'erreur de syntaxe"
   ]
  },
  {
   "cell_type": "code",
   "execution_count": 122,
   "metadata": {},
   "outputs": [
    {
     "name": "stdout",
     "output_type": "stream",
     "text": [
      "[2, 6, 12, 20, 42, 56, 90]\n"
     ]
    }
   ],
   "source": [
    "'''\n",
    "-> Attention à la syntaxe\n",
    "'''\n",
    "\n",
    "liste = [1, 1, 4, 3, 3, 2, 6, 7, 7, 9, 2]\n",
    "\n",
    "resultat = [i*(i+1%(i*5)) for i in sorted(list(set(liste)))]\n",
    "print(resultat)"
   ]
  },
  {
   "cell_type": "markdown",
   "metadata": {},
   "source": [
    "## Exercice 26\n",
    "Importer une variable d'un autre module dans notre script principal"
   ]
  },
  {
   "cell_type": "code",
   "execution_count": 3,
   "metadata": {},
   "outputs": [
    {
     "data": {
      "text/plain": [
       "\"\\nPour importer une variable d'un module, il suffit d'importer le module dans lequel la variable est contenue.\\n\""
      ]
     },
     "execution_count": 3,
     "metadata": {},
     "output_type": "execute_result"
    }
   ],
   "source": [
    "'''\n",
    "-> Pour importer une variable d'un module, il suffit d'importer le module dans lequel la variable est contenue.\n",
    "'''"
   ]
  },
  {
   "cell_type": "markdown",
   "metadata": {},
   "source": [
    "## Bonus 1\n",
    "Récuperer le chemin du script en cours"
   ]
  },
  {
   "cell_type": "code",
   "execution_count": 1,
   "metadata": {},
   "outputs": [
    {
     "name": "stdout",
     "output_type": "stream",
     "text": [
      "/home/daj/Bureau/Developpement/101_exercices\n",
      "/home/daj/Bureau/Developpement\n",
      "/home/daj/Bureau/Developpement/images\n"
     ]
    }
   ],
   "source": [
    "'''\n",
    "-> chemin = __file__ :chemin complet vers le script en cours d'excecution\n",
    "-> Recuperer chemin d'un fichier avec module Os\n",
    "\n",
    "'''\n",
    "\n",
    "import os\n",
    "\n",
    "# Chemin complet vers le script en cours d'excecutin\n",
    "fichier_courant = os.path.abspath('')\n",
    "print(fichier_courant)\n",
    "\n",
    "# Dossier parent du fichier\n",
    "dossier_parent = os.path.dirname(fichier_courant)\n",
    "print(dossier_parent)\n",
    "\n",
    "# Contatener avec le nom d'un autre dossier\n",
    "dossier_image = os.path.join(dossier_parent, \"images\")\n",
    "print(dossier_image)"
   ]
  },
  {
   "cell_type": "markdown",
   "metadata": {},
   "source": [
    "## Exercice 27\n",
    "Recuperer l'extension d'un fichier"
   ]
  },
  {
   "cell_type": "code",
   "execution_count": 29,
   "metadata": {},
   "outputs": [
    {
     "name": "stdout",
     "output_type": "stream",
     "text": [
      "extension avec point est .exe\n",
      "Extension sans point est exe\n"
     ]
    }
   ],
   "source": [
    "\"\"\"\n",
    "-> Pour manipuler des chemins de dossier, on utilise le module os.path\n",
    "-> splitext permet de séparer un chemin de son extension. la fonction retourne un tuple\n",
    "    qui contient le chemin sans l'extension en premier élément, et l'extension seule en deuxième élément\n",
    "-> Pour récupérer l'extension sans le point, utiliser la fonction strip \n",
    "\n",
    "\"\"\"\n",
    "import os\n",
    "\n",
    "fichier = \"C:/Python36/python.exe\"\n",
    "\n",
    "# separer le fichier et son extension\n",
    "fichier_extension = os.path.splitext(fichier)# -> renvoit un tuple (x,y)\n",
    "\n",
    "# Extension\n",
    "extension = fichier_extension[1]\n",
    "print(\"extension avec point est \" + extension)\n",
    "\n",
    "# Afficher l'extension sans le point.\n",
    "extension = extension.strip(\".\")\n",
    "print(\"Extension sans point est \" + extension)"
   ]
  },
  {
   "cell_type": "markdown",
   "metadata": {},
   "source": [
    "## Bonus 2\n",
    "Acceder a une variable d'environnement\n"
   ]
  },
  {
   "cell_type": "code",
   "execution_count": 37,
   "metadata": {},
   "outputs": [
    {
     "name": "stdout",
     "output_type": "stream",
     "text": [
      "/home/daj\n"
     ]
    }
   ],
   "source": [
    "'''\n",
    "-> Variable definit au niveau de notre systeme a la quelle on peut acceder a n'importe quel moment\n",
    "'''\n",
    "\n",
    "import os\n",
    "\n",
    "home_var = os.environ.get(\"HOME\")\n",
    "print(home_var)"
   ]
  },
  {
   "cell_type": "markdown",
   "metadata": {},
   "source": [
    "## Bonus 3\n",
    "Calculer le temps d'excecution d'un script"
   ]
  },
  {
   "cell_type": "code",
   "execution_count": 7,
   "metadata": {},
   "outputs": [
    {
     "name": "stdout",
     "output_type": "stream",
     "text": [
      "le temps d'exccution est: 0.7562494277954102\n"
     ]
    }
   ],
   "source": [
    "import time\n",
    "\n",
    "t1 = time.time()\n",
    "a = [i*2 for i in range(9999999)]\n",
    "t2 = time.time()\n",
    "t = t2 -t1\n",
    "print(\"le temps d'exccution est: \" + str(t) )"
   ]
  },
  {
   "cell_type": "markdown",
   "metadata": {},
   "source": [
    "## Exercice 28\n",
    "vérifier que la variable a contient bien un nombre."
   ]
  },
  {
   "cell_type": "code",
   "execution_count": 25,
   "metadata": {},
   "outputs": [
    {
     "name": "stdout",
     "output_type": "stream",
     "text": [
      "0\n",
      "La liste n'est pas vide\n"
     ]
    }
   ],
   "source": [
    "'''\n",
    "-> Le nombre 0 est équivalant au boolean False\n",
    "-> Pour vérifier explicitement qu'une variable n'est pas égale à None, \n",
    "    il vaut mieux utiliser la syntaxe if variable is not None\n",
    "-> on ne peut pas utiliser la syntaxe 'if variable' Si le nombre récupéré est 0.\n",
    "    La structure conditionnelle ne sera pas vérifiée, car 0 est équivalant à False\n",
    "'''\n",
    "\n",
    "# Vérifier que la variable a contient bien un nombre.\n",
    "a = 0\n",
    "if a is not None:\n",
    "    print(a)\n",
    "\n",
    "# Verifier q'une liste n'est pas vide\n",
    "b = [0]\n",
    "\n",
    "if b:\n",
    "    print(\"La liste n'est pas vide\")"
   ]
  },
  {
   "cell_type": "markdown",
   "metadata": {},
   "source": [
    "## Exercice 29\n",
    "Formater une chaine de caractere"
   ]
  },
  {
   "cell_type": "code",
   "execution_count": 28,
   "metadata": {},
   "outputs": [
    {
     "name": "stdout",
     "output_type": "stream",
     "text": [
      "Je m'appelle Ambroise SANON\n"
     ]
    }
   ],
   "source": [
    "'''\n",
    "-> Pour concaténer des chaînes de caractère, \n",
    "    on peut utiliser directement la fonction format avec les accolades pour insérer des variables \n",
    "    à l'intérieur d'une chaîne de caractère\n",
    "'''\n",
    "\n",
    "prenom = \"Ambroise\"\n",
    "nom = \"SANON\"\n",
    "\n",
    "print(\"Je m'appelle {prenom} {nom}\".format(prenom = prenom, nom = nom))"
   ]
  },
  {
   "cell_type": "markdown",
   "metadata": {},
   "source": [
    "## Exercice 30\n",
    "Inverser les lettres d'un mot"
   ]
  },
  {
   "cell_type": "code",
   "execution_count": 41,
   "metadata": {},
   "outputs": [
    {
     "name": "stdout",
     "output_type": "stream",
     "text": [
      "Ymedu\n",
      "['y', 'm', 'e', 'd', 'U']\n"
     ]
    },
    {
     "data": {
      "text/plain": [
       "'Ymedu'"
      ]
     },
     "execution_count": 41,
     "metadata": {},
     "output_type": "execute_result"
    }
   ],
   "source": [
    "'''\n",
    "-> Pour inverser une chaîne de caractère, on peut utiliser le slicing [::-1] ou la fonction reversed.\n",
    "-> Pour joindre les éléments d'une liste ensemble, on utilise la fonction join.\n",
    "-> Pour mettre une majuscule sur la première lettre d'un mot, on utilise la fonction capitalize.\n",
    "-> reversed renvoit un object 'reversed', qui est en fait un itérateur Nous pouvons donc passer à travers \n",
    "    cet itérateur avec une boucle for et ajouter chaque lettre dans une liste\n",
    "'''\n",
    "\n",
    "mot = \"Udemy\"\n",
    "\n",
    "# Premiere methode slicing\n",
    "print(mot[::-1].capitalize())\n",
    "\n",
    "# Deuxieme methode\n",
    "resultat = []\n",
    "for lettre in reversed(mot):\n",
    "    resultat.append(lettre)\n",
    "print(resultat)\n",
    "\n",
    "# joinde les elements de la liste\n",
    "resultat_join = \"\".join(resultat)\n",
    "\n",
    "# Majuscule en debut\n",
    "resultat_join.capitalize()"
   ]
  },
  {
   "cell_type": "markdown",
   "metadata": {},
   "source": [
    "## Exercice 31\n",
    "Melanger les lettres d'un mot"
   ]
  },
  {
   "cell_type": "code",
   "execution_count": 68,
   "metadata": {},
   "outputs": [
    {
     "data": {
      "text/plain": [
       "'Njbooru'"
      ]
     },
     "execution_count": 68,
     "metadata": {},
     "output_type": "execute_result"
    }
   ],
   "source": [
    "'''\n",
    "-> Pour mélanger les éléments d'une liste, on utilise la fonction shuffle du module random.\n",
    "    La fonction shuffle fonctionne sur des listes.\n",
    "-> Pour convertir une chaîne de caractères en liste, on utilise la fonction list.\n",
    "'''\n",
    "\n",
    "import random\n",
    "\n",
    "mot = \"Bonjour\"\n",
    "\n",
    "# convertir en liste\n",
    "mot_liste = list(mot)\n",
    "\n",
    "# Melanger les elements de la liste\n",
    "random.shuffle(mot_liste)\n",
    "\n",
    "# Joindre les elements et majuscule au debut\n",
    "\"\".join(mot_liste).capitalize()"
   ]
  },
  {
   "cell_type": "markdown",
   "metadata": {},
   "source": [
    "## Exercice 32\n",
    "Tronquer le nombre de decimale"
   ]
  },
  {
   "cell_type": "code",
   "execution_count": 73,
   "metadata": {},
   "outputs": [
    {
     "name": "stdout",
     "output_type": "stream",
     "text": [
      "le nombre tronque est:2938.489\n",
      "le nombre tronque est:2938.489\n"
     ]
    }
   ],
   "source": [
    "'''\n",
    "-> On peut tronquer directement un nombre pour n'afficher qu'une certaine parties des décimales \n",
    "    après la virgule grâce à la fonction format et la syntaxe {nombre:.3f}\n",
    "-> Ou utiliser la fonction round.\n",
    "\n",
    "\n",
    "'''\n",
    "\n",
    "nombre = 2938.48872\n",
    "decimale = 3\n",
    "\n",
    "# Premiere methode, fonction round\n",
    "solution = round(nombre, decimale)\n",
    "print(\"le nombre tronque est:{solution}\".format(solution=solution))\n",
    "\n",
    "# Deuxieme methode fonction format\n",
    "print(\"le nombre tronque est:{nombre:.{decimale}f}\".format(nombre=nombre, decimale=decimale))"
   ]
  },
  {
   "cell_type": "markdown",
   "metadata": {},
   "source": [
    "## Exercice 33\n",
    "Tester une condition sur une ligne"
   ]
  },
  {
   "cell_type": "code",
   "execution_count": 89,
   "metadata": {},
   "outputs": [
    {
     "name": "stdout",
     "output_type": "stream",
     "text": [
      "Vous êtes majeurs !\n"
     ]
    }
   ],
   "source": [
    "'''\n",
    "-> Pour réaliser une structure conditionnelle sur une seule ligne, on utilise un opérateur ternaire.\n",
    "-> Il n'est pas possible d'inclure un elif dans un opérateur ternaire.\n",
    "-> syntaxe suivante :\n",
    "    variable = expression if condition else expression\n",
    "'''\n",
    "\n",
    "# Tester si quelqu'un est majeur ou non\n",
    "a = 20\n",
    "majeur = print(\"Vous êtes majeurs !\") if a >= 20 else print(\"Vous n'êtes pas majeurs\")\n"
   ]
  },
  {
   "cell_type": "markdown",
   "metadata": {},
   "source": [
    "## Bonnus 4\n",
    "Calculer l'age d'un chien"
   ]
  },
  {
   "cell_type": "code",
   "execution_count": 15,
   "metadata": {},
   "outputs": [
    {
     "name": "stdout",
     "output_type": "stream",
     "text": [
      "Inserer l'age de votre chien 9\n",
      "age du chien en age humain est: 49\n"
     ]
    }
   ],
   "source": [
    "\"\"\"\n",
    "-> La fonction input renvoit une chaine de caractere, il faut convertir en int\n",
    "\n",
    "\"\"\"\n",
    "\n",
    "# Input\n",
    "age = int(input(\"Inserer l'age de votre chien \"))\n",
    "\n",
    "# Age negatif\n",
    "if age < 0:\n",
    "    print(\"Vous devez entrer un age positif!\")\n",
    "    exit()\n",
    "elif age <=2:\n",
    "    age_humain = age * 10.5\n",
    "else:\n",
    "    age_humain = 21 + (age -2) * 4\n",
    "print(\"age du chien en age humain est:\", age_humain)"
   ]
  },
  {
   "cell_type": "markdown",
   "metadata": {},
   "source": [
    "## Exercice 34\n",
    "Trier trois nombre sans condition et sans la fonction sort()"
   ]
  },
  {
   "cell_type": "code",
   "execution_count": 18,
   "metadata": {},
   "outputs": [
    {
     "name": "stdout",
     "output_type": "stream",
     "text": [
      "Les nombres dans l'ordre sont 2 4 6\n"
     ]
    }
   ],
   "source": [
    "'''\n",
    "-> Pour trouver la valeur maximale ou minimale entre plusieurs variables, on utilise les fonctions min et max.\n",
    "'''\n",
    "\n",
    "a = 4\n",
    "b = 6\n",
    "c = 2\n",
    "\n",
    "# Maleur minimale\n",
    "n1 = min(a, b, c)\n",
    "\n",
    "# valeur Max\n",
    "n3 = max(a, b, c)\n",
    "\n",
    "# Valeur du milieu\n",
    "n2 = (a + b + c) - n1 - n3\n",
    "\n",
    "print(\"Les nombres dans l'ordre sont {} {} {}\".format(n1, n2, n3))"
   ]
  },
  {
   "cell_type": "markdown",
   "metadata": {},
   "source": [
    "## Exercice 35\n",
    "Sortir d'une boucle infine"
   ]
  },
  {
   "cell_type": "code",
   "execution_count": 24,
   "metadata": {},
   "outputs": [
    {
     "name": "stdout",
     "output_type": "stream",
     "text": [
      "Exercice réussi !\n"
     ]
    }
   ],
   "source": [
    "'''\n",
    "-> Pour incrémenter un nombre entier, on utilise la syntaxe variable += 1.\n",
    "'''\n",
    "i = 0\n",
    "\n",
    "while i < 0:\n",
    "    pass\n",
    "    i += 1\n",
    "print(\"Exercice réussi !\")"
   ]
  },
  {
   "cell_type": "markdown",
   "metadata": {},
   "source": [
    "## Exercice 36\n",
    "Trouver l'erreur dans une boucle for"
   ]
  },
  {
   "cell_type": "code",
   "execution_count": 31,
   "metadata": {},
   "outputs": [
    {
     "name": "stdout",
     "output_type": "stream",
     "text": [
      "0\n",
      "1\n",
      "2\n",
      "3\n",
      "4\n",
      "5\n"
     ]
    }
   ],
   "source": [
    "'''\n",
    "-> La fonction range a besoin d'un nombre pour créer une liste.\n",
    "-> Pour calculer la longueur d'une chaîne de caractère, on utilise la fonction len\n",
    "'''\n",
    "mot = \"Python\"\n",
    "\n",
    "for i in range(len(mot)):\n",
    "    print(i)"
   ]
  },
  {
   "cell_type": "markdown",
   "metadata": {},
   "source": [
    "## Exercice 37\n",
    "Trouver l'erreur dans la fonction. Afficher 5 fois le mot bonjour de suite."
   ]
  },
  {
   "cell_type": "code",
   "execution_count": 86,
   "metadata": {},
   "outputs": [
    {
     "name": "stdout",
     "output_type": "stream",
     "text": [
      "BonjourBonjourBonjourBonjourBonjour\n"
     ]
    }
   ],
   "source": [
    "'''\n",
    "-> L'ordre des paramètres dans une fonction a son importance ! \n",
    "    Vous ne pouvez pas mettre un paramètre sans valeur par défaut après un paramètre qui en a une.\n",
    "    \n",
    "->  si vous définissez une valeur par défaut pour un paramètre qui se trouve en première position, \n",
    "    vous avez l'obligation de définir une valeur par défaut pour tous les paramètres qui suivent.\n",
    "    \n",
    "'''\n",
    "\n",
    "def multiplicateur_mot(mot, mult = 5):\n",
    "    return (mot * mult)\n",
    "\n",
    "mot_multiplie = multiplicateur_mot(mot=\"Bonjour\")\n",
    "print(mot_multiplie)"
   ]
  },
  {
   "cell_type": "markdown",
   "metadata": {},
   "source": [
    "## Exercice 38\n",
    "Additionner deux nombre\n"
   ]
  },
  {
   "cell_type": "code",
   "execution_count": 37,
   "metadata": {},
   "outputs": [
    {
     "name": "stdout",
     "output_type": "stream",
     "text": [
      "15\n"
     ]
    }
   ],
   "source": [
    "'''\n",
    "-> Pour retourner une valeur à l'intérieur d'une fonction, on utilise le mot clé return.\n",
    "-> Une fonction peut, dans certains cas, ne pas retourner de résultat \n",
    "    (par exemple, une fonction qui exécute plusieurs print à la suite, \n",
    "    pour afficher un message de bienvenue par exemple, n'a pas besoin de retourner de valeur spécifique)\n",
    "'''\n",
    "\n",
    "def addition(a, b):\n",
    "    c = a + b\n",
    "    return c\n",
    "\n",
    "resultat = addition(5, 10)\n",
    "print(resultat)"
   ]
  },
  {
   "cell_type": "markdown",
   "metadata": {},
   "source": [
    "## Exercice 39\n",
    "Afficher la table de multiplication d'un nombre: boucle for et la fonction range"
   ]
  },
  {
   "cell_type": "code",
   "execution_count": 50,
   "metadata": {},
   "outputs": [
    {
     "name": "stdout",
     "output_type": "stream",
     "text": [
      "7 * 0 = 0\n",
      "7 * 1 = 7\n",
      "7 * 2 = 14\n",
      "7 * 3 = 21\n",
      "7 * 4 = 28\n",
      "7 * 5 = 35\n",
      "7 * 6 = 42\n",
      "7 * 7 = 49\n",
      "7 * 8 = 56\n",
      "7 * 9 = 63\n",
      "7 * 10 = 70\n"
     ]
    }
   ],
   "source": [
    "'''\n",
    "-> Il est possible de faire des opérations mathématiques directement à l'intérieur de la méthode format, \n",
    "    afin d'insérer le résultat de ces opérations à l'intérieur d'une chaîne de caractère.\n",
    "'''\n",
    "\n",
    "# Table de multiplication de 7\n",
    "nombre = 7\n",
    "for i in range(11):\n",
    "    print(\"{nombre} * {i} = {resultat}\".format(nombre = nombre, i = i, resultat = i * nombre))\n",
    "\n",
    "# Fonction de multiplication\n",
    "def multiplication(nombre):\n",
    "    nombre = nombre\n",
    "    for entier in range(11):\n",
    "        print(\"{a} * {b} = {c}\".format(a = nombre, b = entier, c = nombre*entier))\n",
    "    "
   ]
  },
  {
   "cell_type": "markdown",
   "metadata": {},
   "source": [
    "## Exercice 40\n",
    "Recuperer l'indice de l'iteration dans une boucle. Recuperer l'indice et l'element"
   ]
  },
  {
   "cell_type": "code",
   "execution_count": 54,
   "metadata": {},
   "outputs": [
    {
     "name": "stdout",
     "output_type": "stream",
     "text": [
      "0 Pierre\n",
      "1 Paul\n",
      "2 Marie\n",
      "0 Pierre\n",
      "1 Paul\n",
      "2 Marie\n"
     ]
    }
   ],
   "source": [
    "'''\n",
    "-> Pour récupérer un élément et son indice dans une boucle for, on utilise la fonction enumerate.\n",
    "'''\n",
    "# Premiere methode -> Erreur débutant, Alourdit le code et le rend difficilement lisible.\n",
    "liste = [\"Pierre\", \"Paul\", \"Marie\"]\n",
    "for i in range(len(liste)):\n",
    "    print(i, liste[i])\n",
    "    \n",
    "# Deuxieme methode -> Enumerate\n",
    "for i, nom in enumerate(liste):\n",
    "    print(i, nom)"
   ]
  },
  {
   "cell_type": "markdown",
   "metadata": {},
   "source": [
    "## Exercice 41\n",
    "Recuperer les elements pairs d'une liste"
   ]
  },
  {
   "cell_type": "code",
   "execution_count": 76,
   "metadata": {},
   "outputs": [
    {
     "name": "stdout",
     "output_type": "stream",
     "text": [
      "[0, 2, 4, 6, 8, 10, 12, 14, 16, 18, 20, 22, 24, 26, 28, 30, 32, 34, 36, 38, 40, 42, 44, 46, 48]\n"
     ]
    }
   ],
   "source": [
    "'''\n",
    "-> Pour vérifier si un nombre est pair, on utilise l'opérateur mathématique modulo, \n",
    "    en vérifiant si le modulo de notre nombre par 2 est égal ou non à 0.\n",
    "'''\n",
    "import time\n",
    "t1 = time.time()\n",
    "nombres = range(50)\n",
    "\n",
    "nombres_pairs = []\n",
    "\n",
    "for i in nombres:\n",
    "    if i%2 == 0:\n",
    "        nombres_pairs.append(i)\n",
    "print(nombres_pairs)"
   ]
  },
  {
   "cell_type": "markdown",
   "metadata": {},
   "source": [
    "## Exercice 42\n",
    "Comprehension de liste. Recuperer les elements pairs d'une liste "
   ]
  },
  {
   "cell_type": "code",
   "execution_count": 75,
   "metadata": {},
   "outputs": [
    {
     "name": "stdout",
     "output_type": "stream",
     "text": [
      "[0, 2, 4, 6, 8, 10, 12, 14, 16, 18, 20, 22, 24, 26, 28, 30, 32, 34, 36, 38, 40, 42, 44, 46, 48]\n"
     ]
    }
   ],
   "source": [
    "'''\n",
    "-> La compréhension de liste permet d'exécuter une boucle for sur une seule ligne \n",
    "-> Syntaxe : [expression for expression in liste if condition]\n",
    "-> Pour exécuter une boucle for sur une seule ligne et ainsi trier les éléments d'une liste, \n",
    "    on utilise une compréhension de liste\n",
    "\n",
    "'''\n",
    "\n",
    "nombres = range(50)\n",
    "nombres_pairs = [x for x in nombres if x%2 == 0]\n",
    "print(nombres_pairs)"
   ]
  }
 ],
 "metadata": {
  "kernelspec": {
   "display_name": "Python 3",
   "language": "python",
   "name": "python3"
  },
  "language_info": {
   "codemirror_mode": {
    "name": "ipython",
    "version": 3
   },
   "file_extension": ".py",
   "mimetype": "text/x-python",
   "name": "python",
   "nbconvert_exporter": "python",
   "pygments_lexer": "ipython3",
   "version": "3.7.9"
  }
 },
 "nbformat": 4,
 "nbformat_minor": 4
}
