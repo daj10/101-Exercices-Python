{
 "cells": [
  {
   "cell_type": "markdown",
   "metadata": {},
   "source": [
    "## Exercice 43\n",
    "Additionner les nombres d'un chiffre : Comprehension liste"
   ]
  },
  {
   "cell_type": "code",
   "execution_count": 9,
   "metadata": {},
   "outputs": [
    {
     "name": "stdout",
     "output_type": "stream",
     "text": [
      "22\n"
     ]
    }
   ],
   "source": [
    "'''\n",
    "-> Pour boucler sur chaque chiffre d'un nombre, on convertit le nombre en chaîne de caractère\n",
    "-> Pour additionner ensemble tous les nombres contenus dans une liste, on utilise la fonction sum\n",
    "\n",
    "'''\n",
    "\n",
    "nombre = 209812\n",
    "\n",
    "liste_nombre = [int(i) for i in str(nombre)]\n",
    "somme = sum(liste_nombre)\n",
    "print(somme)"
   ]
  },
  {
   "cell_type": "markdown",
   "metadata": {},
   "source": [
    "## Exercice 44\n",
    "Remplacer un élément dans une liste : Comprehension liste"
   ]
  },
  {
   "cell_type": "code",
   "execution_count": null,
   "metadata": {},
   "outputs": [],
   "source": [
    "'''\n",
    "-> Pour remplacer un mot par un autre, on utilise la fonction replace\n",
    "\n",
    "'''\n",
    "\n",
    "liste = [\"Pierre\", \"Marie\", \"Julie\", \"Adrien\", \"Julie\"]\n",
    "nom_a_chercher = \"Julie\"\n",
    "nouveau_nom = \"Julien\"\n",
    "\n",
    "resultat = [nom.replace(nom_a_chercher, nouveau_nom) for nom in liste]\n",
    "print(resultat)"
   ]
  },
  {
   "cell_type": "markdown",
   "metadata": {},
   "source": [
    "## Exercice 45\n",
    "Enlever les doublons d'une liste"
   ]
  },
  {
   "cell_type": "code",
   "execution_count": 17,
   "metadata": {},
   "outputs": [
    {
     "name": "stdout",
     "output_type": "stream",
     "text": [
      "[1, 2, 3, 4, 5, 6, 7, 8, 9, 10]\n",
      "{1, 2, 3, 4, 5, 6, 7, 8, 9, 10}\n"
     ]
    }
   ],
   "source": [
    "'''\n",
    "-> Pour vérifier si un élément est déjà présent ou non dans une liste,\n",
    "    on utilise la syntaxe i in liste. Si le nombre est déjà dans la liste, cette syntaxe retournera True, si non, False.\n",
    "\n",
    "'''\n",
    "nombres = [1, 2, 2, 3, 4, 5, 5, 5, 6, 7, 7, 8, 9, 10]\n",
    "\n",
    "# 1ere methode\n",
    "liste_sans_duplica = []\n",
    "for i in nombres:\n",
    "    if i not in liste_sans_duplica:\n",
    "        liste_sans_duplica.append(i)\n",
    "print(liste_sans_duplica)\n",
    "\n",
    "\n",
    "# 2em methode -> Conversion en set\n",
    "print(set(nombres))"
   ]
  },
  {
   "cell_type": "markdown",
   "metadata": {},
   "source": [
    "## Bonus 1\n",
    "Afficher phrase tant que l'utilisateur le demande"
   ]
  },
  {
   "cell_type": "code",
   "execution_count": null,
   "metadata": {},
   "outputs": [],
   "source": [
    "# 1ere methode\n",
    "continuer = \"o\"\n",
    "counter = 0\n",
    "while continuer == \"o\":\n",
    "    print(\"Le compteur est maintenant à : \", counter)\n",
    "    continuer = str(input(\"Voulez vous continuer ? O/N \"))\n",
    "    counter +=1"
   ]
  },
  {
   "cell_type": "code",
   "execution_count": null,
   "metadata": {
    "scrolled": true
   },
   "outputs": [],
   "source": [
    "# 2em methode\n",
    "counter = 0\n",
    "while True:\n",
    "    print(\"Le compteur est maintenant à : \", counter)\n",
    "    saisi_utilisateur = (str(input(\"Voulez vous continuer ? O/N \")))\n",
    "    if saisi_utilisateur.lower() == \"o\":\n",
    "      counter +=1\n",
    "    elif saisi_utilisateur.lower() == \"n\":\n",
    "        break\n",
    "    else:\n",
    "        pass\n",
    "    "
   ]
  },
  {
   "cell_type": "markdown",
   "metadata": {},
   "source": [
    "## Exercice 46\n",
    "Ajouter des elements a un dictionnaire"
   ]
  },
  {
   "cell_type": "code",
   "execution_count": 20,
   "metadata": {},
   "outputs": [
    {
     "name": "stdout",
     "output_type": "stream",
     "text": [
      "{'id-01': 'Pierre', 'id-02': 'Marie', 'id-03': 'Adrien'}\n"
     ]
    }
   ],
   "source": [
    "'''\n",
    "-> Pour vérifier si une chaîne de caractère ne contient que des nombres, on utilise la fonction isdigit\n",
    "-> Pour formater un nombre pour qu'il contienne toujours 2 chiffres,\n",
    "    on utilise la syntaxe 02d à l'intérieur d'accolades utilisées pour la fonction format.\n",
    "-> a.isdigit() verifier si une chaine de caractere contient un chiffre.\n",
    "'''\n",
    "employes = {}\n",
    "liste = [10, 2329, 5, \"Pierre\", 203, \"Marie\", 867, \"Adrien\"]\n",
    "\n",
    "#Methode 1 -> isdigit()\n",
    "i =1\n",
    "for nom in liste:\n",
    "    if not ((str(nom)).isdigit()):\n",
    "        employes['id-{:02d}'.format(i)] = nom\n",
    "        i+=1\n",
    "print(employes)\n",
    "# Methode 2 isinstance: if isinstance(nom, str):"
   ]
  },
  {
   "cell_type": "markdown",
   "metadata": {},
   "source": [
    "## Exercice 47\n",
    "Creer un dictionnaire avec les lettres de l'alphabet"
   ]
  },
  {
   "cell_type": "code",
   "execution_count": 8,
   "metadata": {},
   "outputs": [
    {
     "name": "stdout",
     "output_type": "stream",
     "text": [
      "{1: 'a', 2: 'b', 3: 'c', 4: 'd', 5: 'e', 6: 'f', 7: 'g', 8: 'h', 9: 'i', 10: 'j', 11: 'k', 12: 'l', 13: 'm', 14: 'n', 15: 'o', 16: 'p', 17: 'q', 18: 'r', 19: 's', 20: 't', 21: 'u', 22: 'v', 23: 'w', 24: 'x', 25: 'y', 26: 'z'}\n",
      "----------2eme methode-----------\n",
      "{'1': 'a', '2': 'b', '3': 'c', '4': 'd', '5': 'e', '6': 'f', '7': 'g', '8': 'h', '9': 'i', '10': 'j', '11': 'k', '12': 'l', '13': 'm', '14': 'n', '15': 'o', '16': 'p', '17': 'q', '18': 'r', '19': 's', '20': 't', '21': 'u', '22': 'v', '23': 'w', '24': 'x', '25': 'y', '26': 'z'}\n"
     ]
    }
   ],
   "source": [
    "'''\n",
    "-> Pour créer une liste de tuple à partir de deux listes, on utilise la fonction zip.\n",
    "-> Pour créer un dictionnaire à partir d'une liste de tuple, on peut utiliser la fonction dict.\n",
    "-> Pour recuperer toutes les lettres de l'alphabet, on utilise le module string\n",
    "\n",
    "'''\n",
    "\n",
    "import string\n",
    "alphabet = string.ascii_lowercase\n",
    "\n",
    "#Creer des nombres\n",
    "indices = range(1, len(alphabet)+1)\n",
    "\n",
    "# liste de tuple en associant chaque indice a une lettre.\n",
    "liste_alphabet = zip(indices, alphabet)\n",
    "\n",
    "#Convertir la liste en dictionnaire\n",
    "resultat = dict(liste_alphabet)\n",
    "print(resultat)\n",
    "\n",
    "print(\"----------2eme methode-----------\")\n",
    "# 2eme methode\n",
    "dic = {}\n",
    "i = 1\n",
    "for j in alphabet:\n",
    "    dic['{i}'.format(i=i)] = j\n",
    "    i+=1\n",
    "print(dic)"
   ]
  },
  {
   "cell_type": "markdown",
   "metadata": {},
   "source": [
    "## Exercice 48\n",
    "Recreer la fonction len"
   ]
  },
  {
   "cell_type": "code",
   "execution_count": null,
   "metadata": {},
   "outputs": [],
   "source": [
    "def longueur(variable):\n",
    "    '''\n",
    "    Fonction qui renvoit la valeur d'une variable\n",
    "    \n",
    "    '''\n",
    "    compteur = 0\n",
    "    for lettre in variable:\n",
    "        compteur+=1\n",
    "    return compteur\n",
    "longueur(\"Bonjour\")"
   ]
  },
  {
   "cell_type": "markdown",
   "metadata": {},
   "source": [
    "## Exercice 49\n",
    "Creer un motif avec les prints\n"
   ]
  },
  {
   "cell_type": "code",
   "execution_count": 3,
   "metadata": {},
   "outputs": [
    {
     "name": "stdout",
     "output_type": "stream",
     "text": [
      "*\n",
      "**\n",
      "***\n",
      "****\n",
      "*****\n",
      "******\n",
      "*******\n",
      "********\n",
      "*******\n",
      "******\n",
      "*****\n",
      "****\n",
      "***\n",
      "**\n",
      "*\n"
     ]
    }
   ],
   "source": [
    "'''\n",
    "-> Pour créer une liste avec la fonction range en sens inverse, on peut passer un troisième paramètre : -1\n",
    "\n",
    "'''\n",
    "\n",
    "n = 8\n",
    "symbole = \"*\"\n",
    "#nombres = list(range(1, n+1)) + list(range(n-1, 0, -1))\n",
    "nombres = list(range(1, n+1))\n",
    "nombres.extend(list(range(n-1, 0, -1)))\n",
    "for i in nombres:\n",
    "    print(symbole*i)"
   ]
  },
  {
   "cell_type": "markdown",
   "metadata": {},
   "source": [
    "## Exercice 50\n",
    "Creer une pyramide de symboles"
   ]
  },
  {
   "cell_type": "code",
   "execution_count": 9,
   "metadata": {},
   "outputs": [
    {
     "name": "stdout",
     "output_type": "stream",
     "text": [
      "         $ \n",
      "        $ $ \n",
      "       $ $ $ \n",
      "      $ $ $ $ \n",
      "     $ $ $ $ $ \n",
      "    $ $ $ $ $ $ \n",
      "   $ $ $ $ $ $ $ \n",
      "  $ $ $ $ $ $ $ $ \n",
      " $ $ $ $ $ $ $ $ $ \n",
      "$ $ $ $ $ $ $ $ $ $ \n"
     ]
    }
   ],
   "source": [
    "'''\n",
    "\n",
    "-> Pour afficher plusieurs fois de suite un caractère,\n",
    "    on peut tout simplement multiplier une chaîne de caractère par un nombre.\n",
    "'''\n",
    "\n",
    "symbole = \"$\"\n",
    " \n",
    "taille = 10\n",
    " \n",
    "for i in range(1, taille + 1):\n",
    "    espaces = \" \" * (taille - i)\n",
    "    print(espaces + (symbole + \" \") * i)"
   ]
  },
  {
   "cell_type": "markdown",
   "metadata": {},
   "source": [
    "## Exercice 51\n",
    "Formater un texte avec la fonction format"
   ]
  },
  {
   "cell_type": "code",
   "execution_count": 4,
   "metadata": {},
   "outputs": [
    {
     "name": "stdout",
     "output_type": "stream",
     "text": [
      "-------------\n",
      "|     B     |\n",
      "|     o     |\n",
      "|     n     |\n",
      "|     j     |\n",
      "|     o     |\n",
      "|     u     |\n",
      "|     r     |\n",
      "|           |\n",
      "|     U     |\n",
      "|     d     |\n",
      "|     e     |\n",
      "|     m     |\n",
      "|     y     |\n",
      "-------------\n"
     ]
    }
   ],
   "source": [
    "'''\n",
    "-> afficher plusieurs fois le même élément dans une chaîne de caractère avec la méthode format,\n",
    "    en utilisant plusieurs fois le même indice à l'intérieur des accolades.\n",
    "-> Pour faire en sorte qu'une chaîne de caractère occupe un nombre précis de caractère, \n",
    "    vous pouvez la 'padder' avec des espaces, \n",
    "    en utilisant l'accent circonflexe à l'intérieur de votre chaîne de caractère et la méthode format.\n",
    "\n",
    "'''\n",
    "\n",
    "texte = \"Bonjour Udemy\"\n",
    "longueur = len(texte)\n",
    " \n",
    "symbole1 = \"-\"\n",
    "symbole2 = \"|\"\n",
    " \n",
    "print(symbole1*longueur)\n",
    " \n",
    "for lettre in texte:\n",
    "    print(\"{0}{1:^{2}}{0}\".format(symbole2, lettre, longueur - 2))\n",
    " \n",
    "print(symbole1*longueur)"
   ]
  },
  {
   "cell_type": "markdown",
   "metadata": {},
   "source": [
    "## Exercice 52\n",
    "Ajouter un séparateur de millier à un nombre "
   ]
  },
  {
   "cell_type": "code",
   "execution_count": null,
   "metadata": {},
   "outputs": [],
   "source": [
    "'''\n",
    "-> Pour inverser une chaîne de caractère, on peut utiliser la syntaxe [::-1]\n",
    "\n",
    "-> On peut passer un deuxième argument à la fonction enumerate pour commencer à un indice autre que 0.\n",
    "\n",
    "-> L'opérateur modulo permet de réaliser une opération tous les x itérations (car n % n est égal à 0).\n",
    "\n",
    "'''"
   ]
  },
  {
   "cell_type": "code",
   "execution_count": 21,
   "metadata": {},
   "outputs": [
    {
     "name": "stdout",
     "output_type": "stream",
     "text": [
      "52,039,480,394,023\n"
     ]
    }
   ],
   "source": [
    "nombre = 52039480394023\n",
    "\n",
    "\n",
    "def ajout_separateur(nombre):\n",
    "    #convertir le nombre en str pour pouvoir boucler dessus, renverver ensuite la liste \n",
    "    nombre = str(nombre)[::-1]\n",
    "    resultat = \"\"\n",
    " \n",
    "    for i, chiffre in enumerate(nombre, 1):\n",
    "        chiffre_formatte = chiffre + \",\" if i % 3 == 0 and i != len(nombre) else chiffre\n",
    "        resultat += chiffre_formatte\n",
    " \n",
    "    return resultat[::-1]\n",
    "\n",
    "print(ajout_separateur(nombre))"
   ]
  },
  {
   "cell_type": "markdown",
   "metadata": {},
   "source": [
    "## Exercice 53 \n",
    "Calculer l'année de naissance a partir d'un age donné"
   ]
  },
  {
   "cell_type": "code",
   "execution_count": 77,
   "metadata": {},
   "outputs": [
    {
     "name": "stdout",
     "output_type": "stream",
     "text": [
      "Année de naissance:1995\n"
     ]
    }
   ],
   "source": [
    "'''\n",
    "-> Module datetime pour la date\n",
    "-> Pour récupérer l'année actuelle, on utilise datetime.today().year\n",
    "\n",
    "'''\n",
    "\n",
    "from datetime import datetime\n",
    "\n",
    "age = 25\n",
    "mois_de_naissance = 10\n",
    "\n",
    "annee_actuelle = datetime.today().year # annee actuelle\n",
    "mois_actuelle = datetime.today().month # mois actuel\n",
    "\n",
    "# Operation ternaire.\n",
    "annee_naissance = annee_actuelle - age - (1 if mois_de_naissance > mois_actuelle else 0)\n",
    "print(\"Année de naissance:\" + str(annee_naissance))"
   ]
  },
  {
   "cell_type": "markdown",
   "metadata": {},
   "source": [
    "## Exercice 54\n",
    "Calculer la somme des nombres entre deux nombres"
   ]
  },
  {
   "cell_type": "code",
   "execution_count": 47,
   "metadata": {},
   "outputs": [
    {
     "name": "stdout",
     "output_type": "stream",
     "text": [
      "20\n"
     ]
    }
   ],
   "source": [
    "'''\n",
    "-> La fonction range retourne une liste vide si le premier nombre est plus grand que le second.\n",
    "-> le nombre le plus petit -> min \n",
    "-> nombre plus grand -> max\n",
    "-> La fonction sum permet d'additionner une liste de nombres.\n",
    "'''\n",
    "\n",
    "def somme(a, b):\n",
    "    '''\n",
    "    Fonction pour calculer la somme des nombre compris entre deux nombres passés en parametre\n",
    "    input: nombre depart, nombre fin\n",
    "    output: somme\n",
    "    '''\n",
    "    nombres_entre_a_b = range(min(a, b), max(a, b) + 1)\n",
    "    resultat = sum(nombres_entre_a_b)\n",
    "    return resultat\n",
    "\n",
    "print(somme(2, 6))"
   ]
  },
  {
   "cell_type": "markdown",
   "metadata": {},
   "source": [
    "## Bonus 2\n",
    "Trier une liste d'employé"
   ]
  },
  {
   "cell_type": "code",
   "execution_count": 56,
   "metadata": {},
   "outputs": [
    {
     "name": "stdout",
     "output_type": "stream",
     "text": [
      "Employés de A à M: Astrid, Julien, Marie\n",
      "Employés de N à Z: Pierre, Zoé\n"
     ]
    }
   ],
   "source": [
    "employes = [\"Pierre\", \"Marie\", \"Julien\", \"Astrid\", \"Zoé\"]\n",
    " \n",
    "alphabet = string.ascii_lowercase\n",
    "milieu = int(len(alphabet) / 2)\n",
    "alphabet_01, alphabet_02 = alphabet[:milieu], alphabet[milieu:]\n",
    " \n",
    "employes_a_m = []\n",
    "employes_n_z = []\n",
    " \n",
    "for employe in employes:\n",
    "    premiere_lettre = employe[0].lower()\n",
    "    if premiere_lettre in alphabet_01:\n",
    "        employes_a_m.append(employe)\n",
    "    elif premiere_lettre in alphabet_02:\n",
    "        employes_n_z.append(employe)\n",
    " \n",
    "print(\"Employés de A à M:\", \", \".join(sorted(employes_a_m)))\n",
    "print(\"Employés de N à Z:\", \", \".join(sorted(employes_n_z)))\n"
   ]
  },
  {
   "cell_type": "markdown",
   "metadata": {},
   "source": [
    "## Bonus 3\n",
    "Trier une liste d'employes -> Comprehension de liste "
   ]
  },
  {
   "cell_type": "code",
   "execution_count": 57,
   "metadata": {},
   "outputs": [
    {
     "name": "stdout",
     "output_type": "stream",
     "text": [
      "Employés de A à M: Astrid, Julien, Marie\n",
      "Employés de N à Z: Pierre, Zoé\n"
     ]
    }
   ],
   "source": [
    "import string\n",
    " \n",
    "employes = [\"Pierre\", \"Marie\", \"Julien\", \"Astrid\", \"Zoé\"]\n",
    " \n",
    "alphabet = string.ascii_lowercase\n",
    "employes_a_m = [e for e in employes if e[0].lower() in alphabet[:13]]\n",
    "employes_n_z = [e for e in employes if e[0].lower() in alphabet[13:]]\n",
    " \n",
    "print(\"Employés de A à M:\", \", \".join(sorted(employes_a_m)))\n",
    "print(\"Employés de N à Z:\", \", \".join(sorted(employes_n_z)))"
   ]
  },
  {
   "cell_type": "markdown",
   "metadata": {},
   "source": [
    "## Exercice 55\n",
    "Fonction pour remonter dans une structure de dossier"
   ]
  },
  {
   "cell_type": "code",
   "execution_count": 47,
   "metadata": {},
   "outputs": [
    {
     "name": "stdout",
     "output_type": "stream",
     "text": [
      "Dossier Initial:  /home/daj/Desktop/Developpement/101_exercices\n",
      "Remonter de 3 dossier(s):\n",
      "/home/daj\n"
     ]
    }
   ],
   "source": [
    "'''\n",
    "-> Pour récupérer le dossier parent d'un fichier ou d'un dossier, \n",
    "    on utilise la fonction os.path.dirname du module os.\n",
    "-> Pour répéter une opération un nombre défini de fois, on peut utiliser une boucle while.\n",
    "'''\n",
    "\n",
    "import os\n",
    "\n",
    "# Chemin du script en cours d'execution\n",
    "fichier_courant = os.path.abspath('')\n",
    "\n",
    "\n",
    "def remonter_dossier(chemin_dossier, iterations = 1):\n",
    "    \n",
    "    i = 0\n",
    "    print(\"Dossier Initial: \", chemin_dossier)\n",
    "    print(\"Remonter de {} dossier(s):\".format(iterations))\n",
    "    while i < iterations:\n",
    "        chemin_dossier = os.path.dirname(chemin_dossier)\n",
    "        i+=1\n",
    "    return chemin_dossier\n",
    "    \n",
    "print(remonter_dossier(fichier_courant, 3))"
   ]
  },
  {
   "cell_type": "markdown",
   "metadata": {},
   "source": [
    "## Bonus 4\n",
    "Transformer un chemin relatif en chemin absolu\n",
    "\n",
    "Difference entre os.path.join() et os.sep.join ()"
   ]
  },
  {
   "cell_type": "code",
   "execution_count": 69,
   "metadata": {},
   "outputs": [
    {
     "name": "stdout",
     "output_type": "stream",
     "text": [
      "/home/daj/Developpement/101_exercices\n"
     ]
    }
   ],
   "source": [
    "'''\n",
    "-> La méthode pop () supprime l'élément à l'indice spécifiée dans une liste.\n",
    "\n",
    "-> Le paramètre passé par la fonction os.sep.join () est une liste de variables(chaîne de caracteres).\n",
    "\n",
    "-> Les paramètres transmis a os.path.join() sont plusieurs variables de chaîne.\n",
    "   \n",
    "-> le résultat de sortie est le tout liant les éléments.\n",
    "\n",
    "-> os.sep.join() permet de joindre un ou plusieurs chemins intelligemment avec le séparateur de chemin \n",
    "    correspondant à la plateforme correspondante : Windows, linux ou Mac \n",
    "    contrairement à os.path.join() qui ne fonctionne pas bien sur Windows\n",
    "\n",
    "\n",
    "'''\n",
    "\n",
    "import os\n",
    "chemin = \"/home/daj/Desktop/../Developpement/101_exercices\"\n",
    "\n",
    "def normalize_path(chemin):\n",
    "    chemin_parts = chemin.split(\"/\")\n",
    "    while \"..\" in chemin_parts:\n",
    "        index = chemin_parts.index(\"..\")\n",
    "        chemin_parts.pop(index)\n",
    "        chemin_parts.pop(index-1)\n",
    "    return os.sep.join(chemin_parts)\n",
    " \n",
    "a = normalize_path(chemin)\n",
    "print(a)"
   ]
  },
  {
   "cell_type": "markdown",
   "metadata": {},
   "source": [
    "## Bonus 5\n",
    "Ecrire dans un fichier situé relativement a la postion que le script. \n"
   ]
  },
  {
   "cell_type": "code",
   "execution_count": 81,
   "metadata": {},
   "outputs": [],
   "source": [
    "'''\n",
    "-> os.path.abspath et os.path.direname(__file__) renvoit le repertoire du fichier en cours d'excecution.\n",
    "-> Attention à toujours fermer le fichier avec fichier.close() dans la deuxieme methode\n",
    "\n",
    "'''\n",
    "import os\n",
    "\n",
    "dossier_courrant = os.path.abspath(\"\")\n",
    "chemin_fichier = os.path.join(dossier_courrant, \"texte.txt\")\n",
    "\n",
    "# 1ere methode\n",
    "with open(chemin_fichier, \"w\") as f:\n",
    "    f.write(\"Bonjour, Comment allez vous ?\")\n",
    "\n",
    "# 2eme methode\n",
    "f = open(chemin_fichier, \"w\")\n",
    "f.write(\"Bonjour! je vais très bien\")\n",
    "f.close()"
   ]
  },
  {
   "cell_type": "markdown",
   "metadata": {},
   "source": [
    "## Exercice 56\n",
    "Trouver tous les diviseurs d'un nombre"
   ]
  },
  {
   "cell_type": "code",
   "execution_count": 87,
   "metadata": {},
   "outputs": [
    {
     "name": "stdout",
     "output_type": "stream",
     "text": [
      "[1, 2, 5, 10, 25, 50]\n",
      "[1, 2, 5, 10, 25, 50]\n"
     ]
    }
   ],
   "source": [
    "'''\n",
    "-> Pour récupérer le reste de la division d'un nombre par un autre, on utilise l'opérateur modulo (%).\n",
    "'''\n",
    "\n",
    "# Premiere methode\n",
    "\n",
    "def deviveurs(nombre):\n",
    "    liste_divis = []\n",
    "    for i in range(1, nombre+1):\n",
    "        if nombre % i == 0:\n",
    "            liste_divis.append(i)\n",
    "    return liste_divis\n",
    "\n",
    "print(deviveurs(50))\n",
    "\n",
    "\n",
    "# Deuxieme methode comprehension de liste\n",
    "nombre = 50\n",
    "diviseurs = [x for x in range (1, nombre+1) if nombre%x ==0]\n",
    "\n",
    "print(diviseurs)"
   ]
  },
  {
   "cell_type": "markdown",
   "metadata": {},
   "source": [
    "## Exercice 57\n",
    "Les nombres de 0 a 1000 divisibles par 7 qui ne sont pas des multiples de 3"
   ]
  },
  {
   "cell_type": "code",
   "execution_count": 97,
   "metadata": {},
   "outputs": [
    {
     "name": "stdout",
     "output_type": "stream",
     "text": [
      "[7, 14, 28, 35, 49, 56, 70, 77, 91, 98, 112, 119, 133, 140, 154, 161, 175, 182, 196, 203, 217, 224, 238, 245, 259, 266, 280, 287, 301, 308, 322, 329, 343, 350, 364, 371, 385, 392, 406, 413, 427, 434, 448, 455, 469, 476, 490, 497, 511, 518, 532, 539, 553, 560, 574, 581, 595, 602, 616, 623, 637, 644, 658, 665, 679, 686, 700, 707, 721, 728, 742, 749, 763, 770, 784, 791, 805, 812, 826, 833, 847, 854, 868, 875, 889, 896, 910, 917, 931, 938, 952, 959, 973, 980, 994]\n"
     ]
    }
   ],
   "source": [
    "'''\n",
    "-> Pour vérifier si plusieurs conditions sont vraies, on utilise l'opérateur \"and\"\n",
    "\n",
    "'''\n",
    "\n",
    "nombres = []\n",
    "for i in range (1001):\n",
    "    if i % 7 == 0 and i % 3 != 0:\n",
    "        nombres.append(i)\n",
    "print(nombres)"
   ]
  },
  {
   "cell_type": "markdown",
   "metadata": {},
   "source": [
    "## Exercice 58\n",
    "Calculer la factorielle d'un nombre"
   ]
  },
  {
   "cell_type": "code",
   "execution_count": 32,
   "metadata": {},
   "outputs": [
    {
     "name": "stdout",
     "output_type": "stream",
     "text": [
      "2\n"
     ]
    }
   ],
   "source": [
    "'''\n",
    "-> Pour rapidement multiplier une variable par un nombre, on peut utiliser la syntaxe *=\n",
    "'''\n",
    "nombre = 2\n",
    "def factorielle(nombre):\n",
    "    if nombre == 0:\n",
    "        facto = 1\n",
    "    else:\n",
    "        facto = 1\n",
    "        for i in range (1, nombre+1):\n",
    "            facto *= i\n",
    "    return facto\n",
    "print(factorielle(nombre))"
   ]
  },
  {
   "cell_type": "markdown",
   "metadata": {},
   "source": [
    "## Bonus 6\n",
    "Trouver un fichier à l'interieur d'un dossier"
   ]
  },
  {
   "cell_type": "code",
   "execution_count": 80,
   "metadata": {},
   "outputs": [
    {
     "name": "stdout",
     "output_type": "stream",
     "text": [
      "/home/daj/Desktop/texte.txt\n"
     ]
    },
    {
     "data": {
      "text/plain": [
       "['/home/daj/Desktop/Developpement/101_exercices/texte.txt']"
      ]
     },
     "execution_count": 80,
     "metadata": {},
     "output_type": "execute_result"
    }
   ],
   "source": [
    "'''\n",
    "-> module glob.glob permet de recherche recursive de fichier et dossier à l'interieur d'un dossier. \n",
    "-> os.path.split pour diviser un chemin en (chemin, fichier).\n",
    "\n",
    "'''\n",
    "\n",
    "import os\n",
    "from glob import glob\n",
    "\n",
    "dossier = \"/home/daj/Desktop/\"\n",
    "nom_fichier = \"texte.txt\"\n",
    "u = os.path.join(dossier, nom_fichier)\n",
    "print(u)\n",
    "\n",
    "def trouve_fichier(dossier, fichier):\n",
    "    '''\n",
    "    Fonction qui cherche un fichier de manière recursive à partir d'un dossier.\n",
    "    '''\n",
    "    \n",
    "    # Recherche de tous les fichiers recursivement a partir du dossier passé en para\n",
    "    fichiers = glob(dossier + \"/**\", recursive = True)\n",
    "\n",
    "    # Fichiers touvés\n",
    "    fichier_trouve = [r for r in fichiers if os.path.split(r)[1] == nom_fichier]\n",
    "\n",
    "    return fichier_trouve\n",
    "\n",
    "fichier_trouve = trouve_fichier(dossier, nom_fichier)\n",
    "fichier_trouve"
   ]
  },
  {
   "cell_type": "code",
   "execution_count": 90,
   "metadata": {},
   "outputs": [
    {
     "name": "stdout",
     "output_type": "stream",
     "text": [
      "/home/daj/Desktop/texte_segmentation.txt\n"
     ]
    },
    {
     "data": {
      "text/plain": [
       "'texte'"
      ]
     },
     "execution_count": 90,
     "metadata": {},
     "output_type": "execute_result"
    }
   ],
   "source": [
    "dossier = \"/home/daj/Desktop/\"\n",
    "nom_fichier = \"texte_segmentation.txt\"\n",
    "u = os.path.join(dossier, nom_fichier)\n",
    "print(u)\n",
    "#test = os.path.split(u)\n",
    "#print(test[0])\n",
    "#print(test[1])\n",
    "(os.path.splitext(os.path.split(u)[1])[0]).split(\"_\")[0]"
   ]
  },
  {
   "cell_type": "markdown",
   "metadata": {},
   "source": [
    "## Bonus 7\n",
    "Créer un programme pour surveiller un dossier"
   ]
  },
  {
   "cell_type": "code",
   "execution_count": 23,
   "metadata": {},
   "outputs": [
    {
     "name": "stdout",
     "output_type": "stream",
     "text": [
      "Entrez un temps de rafraichissement: 5\n",
      "Trouvé!\n"
     ]
    }
   ],
   "source": [
    "'''\n",
    "-> os.listdir() permet de trouver tous les dossiers dans un dossier\n",
    "-> \n",
    "'''\n",
    "\n",
    "import os\n",
    "import time\n",
    "\n",
    "dossier = \"/home/daj/Desktop/Developpement\"\n",
    "dossier_a_chercher = \"101_exercices\"\n",
    "\n",
    "\n",
    "attente = int(input(\"Entrez un temps de rafraichissement: \"))\n",
    "\n",
    "while dossier_a_chercher not in os.listdir(dossier):\n",
    "    print(\"Dossier introuvable...\")\n",
    "    # Recherche toutes les 'x=attente' sesondes\n",
    "    time.sleep(attente)\n",
    "print(\"Trouvé!\")"
   ]
  },
  {
   "cell_type": "markdown",
   "metadata": {},
   "source": [
    "## Bonus 8\n",
    "Compter le nombre de dossier et fichiers contenu dans un dossier de maniere recursive"
   ]
  },
  {
   "cell_type": "code",
   "execution_count": 32,
   "metadata": {},
   "outputs": [
    {
     "name": "stdout",
     "output_type": "stream",
     "text": [
      "Nombre de fichiers et dossiers:  31175\n"
     ]
    }
   ],
   "source": [
    "'''\n",
    "f string permet d'indiquer une variable dans les crochets f\"{variable}\"\n",
    "'''\n",
    "import os\n",
    "from glob import glob\n",
    "\n",
    "dossier = \"/home/daj/Desktop/\"\n",
    "\n",
    "# Concatener pour la recherche recursive\n",
    "fichiers = glob(f\"{dossier}/**\", recursive = True)\n",
    "\n",
    "print(\"Nombre de fichiers et dossiers: \", len(fichiers))"
   ]
  },
  {
   "cell_type": "markdown",
   "metadata": {},
   "source": [
    "## Exercice 59\n",
    "Générer un octet aleatoire"
   ]
  },
  {
   "cell_type": "code",
   "execution_count": 61,
   "metadata": {},
   "outputs": [
    {
     "name": "stdout",
     "output_type": "stream",
     "text": [
      "00000100\n",
      "11000101\n"
     ]
    }
   ],
   "source": [
    "'''\n",
    "-> Pour choisir un élément aléatoire entre plusieurs éléments dans une liste, \n",
    "    on utilise la fonction choice du module random.\n",
    "-> Pour joindre plusieurs éléments d'une liste ensemble, on utilise la fonction join.\n",
    "\n",
    "'''\n",
    "\n",
    "import random\n",
    "\n",
    "# 1ere methode \n",
    "# Liste pour récuperer les nombres générés\n",
    "octet = []\n",
    "\n",
    "# converir les nombres en str car la fonction join n'accepte que les chaines\n",
    "for _ in range(8):\n",
    "    octet.append(str(random.choice(range(2))))\n",
    "\n",
    "# joindre les elements\n",
    "print(\"\".join(octet))\n",
    "\n",
    "\n",
    "#-------------------------------------\n",
    "# 2em méthode : Comprehension de liste\n",
    "\n",
    "octet2 = [str(random.choice(range(2))) for _ in range(8)]\n",
    "\n",
    "print(\"\".join(octet2))"
   ]
  },
  {
   "cell_type": "markdown",
   "metadata": {},
   "source": [
    "## Exercice 60 \n",
    "Calculer le nombre de jour entre deux dates"
   ]
  },
  {
   "cell_type": "code",
   "execution_count": 78,
   "metadata": {},
   "outputs": [
    {
     "name": "stdout",
     "output_type": "stream",
     "text": [
      "Nombre de jour:  1470\n"
     ]
    }
   ],
   "source": [
    "'''\n",
    "-> Pour faire des calculs avec des dates, on utilise le module datetime et la classe date.\n",
    "\n",
    "-> Créer un objet delta en soustrayant 2 dates.\n",
    "\n",
    "-> L'objet DELTA contient une propriété \"days\" qui permet de récupérer le nombre de jours entre\n",
    "    les deux dates que l'on a soustrait.\n",
    "\n",
    "'''\n",
    "\n",
    "import datetime\n",
    "\n",
    "# Creation d'instance\n",
    "date_debut = datetime.date(2014, 7, 2)\n",
    "\n",
    "date_fin = datetime.date(2018, 7, 11)\n",
    "\n",
    "# Création objet delta en soustrayant 2 dates\n",
    "nbre_jours = date_fin - date_debut\n",
    "\n",
    "# L'objet DELTA contient une propriété \"days\" -> Permet de récupérer le nombre de jours entre les deux dates que l'on a soustrait :\n",
    "print(\"Nombre de jour: \", nbre_jours.days)"
   ]
  },
  {
   "cell_type": "markdown",
   "metadata": {},
   "source": [
    "## Exercice 61\n",
    "générateur de mot de passe aléatoire"
   ]
  },
  {
   "cell_type": "code",
   "execution_count": 76,
   "metadata": {},
   "outputs": [
    {
     "name": "stdout",
     "output_type": "stream",
     "text": [
      ")?50;fv?\n"
     ]
    }
   ],
   "source": [
    "'''\n",
    "-> string.ascii_letters = lettres min majus de l'alphabet\n",
    "-> string.digits = chiffre de 0 à 9\n",
    "-> string.punctuations = caracteres spéciaux\n",
    "-> random.choice = choix aleatoire\n",
    "\n",
    "'''\n",
    "\n",
    "import string\n",
    "import random\n",
    "\n",
    "\n",
    "taille = 8\n",
    "\n",
    "# Les lettres\n",
    "lettres = string.ascii_letters\n",
    "\n",
    "# Les chiffres\n",
    "chiffres = string.digits\n",
    "\n",
    "# Les caracteres speciaux\n",
    "speciaux = string.punctuation\n",
    "\n",
    "caracteres = lettres + chiffres + speciaux\n",
    "\n",
    "mot_pass = [random.choice(caracteres) for _ in range(taille)]\n",
    "\n",
    "print(\"\".join(mot_pass))"
   ]
  },
  {
   "cell_type": "markdown",
   "metadata": {},
   "source": [
    "## Bonus 9\n",
    "Verifier si le mot de pass est valide:8 caracteres, 2 nombres, une majuscule"
   ]
  },
  {
   "cell_type": "code",
   "execution_count": 1,
   "metadata": {},
   "outputs": [
    {
     "name": "stdout",
     "output_type": "stream",
     "text": [
      "s&xa5EB0\n",
      "True\n"
     ]
    }
   ],
   "source": [
    "'''\n",
    "-> isupper() verifier si une lettre est une majuscule\n",
    "-> isdigit() verifier si un element est un chiffre.\n",
    "-> any() renvoit True si au moins un element dans la liste est qu'on lui passe est vrai\n",
    "\n",
    "'''\n",
    "import string\n",
    "import random\n",
    "\n",
    "taille = 8\n",
    "lettres = string.ascii_letters\n",
    "Maj = string.ascii_uppercase\n",
    "chiffres = string.digits\n",
    "speciaux = string.punctuation\n",
    "caracteres = lettres + chiffres + speciaux\n",
    "\n",
    "mot_pass = \"\".join([random.choice(caracteres) for _ in range(taille)])\n",
    "print(mot_pass)\n",
    "\n",
    "\n",
    "# Fonction\n",
    "def verificateur_mdp(mot_pass):\n",
    "    if len(mot_pass) >=8 and len([lettre for lettre in mot_pass\n",
    "                                  if lettre.isdigit()]) >=2 and any([lettre for lettre in mot_pass \n",
    "                                                                     if lettre.isupper()]):\n",
    "        return True\n",
    "    return False \n",
    "    \n",
    "succes = verificateur_mdp(mot_pass)\n",
    "print(succes)"
   ]
  },
  {
   "cell_type": "markdown",
   "metadata": {},
   "source": [
    "## Exercice 62\n",
    "Compter le nombre d'occurence d'un mot dans un texte"
   ]
  },
  {
   "cell_type": "code",
   "execution_count": 6,
   "metadata": {},
   "outputs": [
    {
     "name": "stdout",
     "output_type": "stream",
     "text": [
      "1\n"
     ]
    }
   ],
   "source": [
    "'''\n",
    "-> par défaut la méthode split va séparer la chaîne de caractère sur les espaces\n",
    "    si elle ne reçoit aucun argument.\n",
    "-> Pour compter le nombre d'occurrence d'un élément dans une liste, on utilise la fonction count\n",
    "'''\n",
    "\n",
    "caractere = \"elit\"\n",
    "\n",
    "with open(\"lorem.txt\", \"r\") as f:\n",
    "    lorem = f.read()\n",
    "\n",
    "# Supprimer les virgules et les points\n",
    "lorem = lorem.replace(\",\", \"\").replace(\".\", \"\")\n",
    "\n",
    "# Conversion en miniscule\n",
    "lorem = lorem.lower()\n",
    "\n",
    "# Liste des mots\n",
    "lorem = lorem.split()\n",
    "\n",
    "# compter le nombre de mots\n",
    "print(lorem.count(caractere))"
   ]
  }
 ],
 "metadata": {
  "kernelspec": {
   "display_name": "Python 3",
   "language": "python",
   "name": "python3"
  },
  "language_info": {
   "codemirror_mode": {
    "name": "ipython",
    "version": 3
   },
   "file_extension": ".py",
   "mimetype": "text/x-python",
   "name": "python",
   "nbconvert_exporter": "python",
   "pygments_lexer": "ipython3",
   "version": "3.7.9"
  }
 },
 "nbformat": 4,
 "nbformat_minor": 4
}
