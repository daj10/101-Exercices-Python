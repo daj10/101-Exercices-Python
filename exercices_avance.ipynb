{
 "cells": [
  {
   "cell_type": "markdown",
   "metadata": {},
   "source": [
    "## Exercice 69\n",
    "Récreer la fonction isdigit, la methode permet de verifier si une chaine ne contient que des nombres"
   ]
  },
  {
   "cell_type": "code",
   "execution_count": 20,
   "metadata": {},
   "outputs": [
    {
     "name": "stdout",
     "output_type": "stream",
     "text": [
      "True\n"
     ]
    }
   ],
   "source": [
    "'''\n",
    "-> Pour créer rapidement et efficacement des listes, \n",
    "    on peut utiliser des compréhensions de liste et la fonction range.\n",
    "\n",
    "-> Pour vérifier si une variable est présente ou non dans une liste, \n",
    "    on utilise \"in\" dans une condition : if variable in liste. \n",
    "    La condition retournera True si la variable est présente dans la liste et False dans le cas contraire.\n",
    "'''\n",
    "\n",
    "\n",
    "def isdigit(variable):\n",
    "    for i in variable:\n",
    "        if i in [str(x) for x in range(10)]:\n",
    "            return True\n",
    "    return False\n",
    "\n",
    "print(isdigit(\"1854274\"))"
   ]
  },
  {
   "cell_type": "markdown",
   "metadata": {},
   "source": [
    "## Exercice 70\n",
    "Recréer la fonction Join"
   ]
  },
  {
   "cell_type": "code",
   "execution_count": null,
   "metadata": {},
   "outputs": [],
   "source": [
    "'''\n",
    "\n",
    "'''\n",
    "\n",
    "def join():\n",
    "    pass\n",
    "\n",
    "j = join(\":\", \"Bonjour\", \"tout\", \"le\", \"monde\")\n",
    "print(j)"
   ]
  },
  {
   "cell_type": "code",
   "execution_count": 21,
   "metadata": {},
   "outputs": [
    {
     "ename": "SyntaxError",
     "evalue": "invalid syntax (<ipython-input-21-1aa1a54696db>, line 1)",
     "output_type": "error",
     "traceback": [
      "\u001b[0;36m  File \u001b[0;32m\"<ipython-input-21-1aa1a54696db>\"\u001b[0;36m, line \u001b[0;32m1\u001b[0m\n\u001b[0;31m    def join(x*):\u001b[0m\n\u001b[0m              ^\u001b[0m\n\u001b[0;31mSyntaxError\u001b[0m\u001b[0;31m:\u001b[0m invalid syntax\n"
     ]
    }
   ],
   "source": [
    "def join():\n",
    "    for i in x:\n",
    "        print(i)\n"
   ]
  }
 ],
 "metadata": {
  "kernelspec": {
   "display_name": "Python 3",
   "language": "python",
   "name": "python3"
  },
  "language_info": {
   "codemirror_mode": {
    "name": "ipython",
    "version": 3
   },
   "file_extension": ".py",
   "mimetype": "text/x-python",
   "name": "python",
   "nbconvert_exporter": "python",
   "pygments_lexer": "ipython3",
   "version": "3.7.9"
  }
 },
 "nbformat": 4,
 "nbformat_minor": 4
}
